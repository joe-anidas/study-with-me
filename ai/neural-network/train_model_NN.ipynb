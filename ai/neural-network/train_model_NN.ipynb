{
  "nbformat": 4,
  "nbformat_minor": 0,
  "metadata": {
    "colab": {
      "name": "Untitled6.ipynb",
      "provenance": []
    },
    "kernelspec": {
      "name": "python3",
      "display_name": "Python 3"
    }
  },
  "cells": [
    {
      "cell_type": "code",
      "metadata": {
        "id": "25fZh19_Csar"
      },
      "source": [
        "!git clone https://github.com/Jaish19/Artificial-Intelligence.git"
      ],
      "execution_count": null,
      "outputs": []
    },
    {
      "cell_type": "code",
      "metadata": {
        "id": "XgBR5tyJCvr8",
        "colab": {
          "base_uri": "https://localhost:8080/"
        },
        "outputId": "84a4b182-9896-40fb-b400-f39661323fe6"
      },
      "source": [
        "import pandas as pd\n",
        "from tensorflow.keras.models import Sequential\n",
        "from tensorflow.keras.layers import Conv2D\n",
        "from tensorflow.keras.layers import MaxPool2D\n",
        "from tensorflow.keras.layers import Flatten\n",
        "from tensorflow.keras.layers import Dense\n",
        "from sklearn.model_selection import train_test_split\n",
        "from sklearn.preprocessing import MinMaxScaler\n",
        "import joblib\n",
        "from sklearn.metrics import mean_absolute_error\n",
        "\n",
        "# Disable some useless pandas warnings to prevent some junk from showing up in the output window\n",
        "pd.options.mode.chained_assignment = None\n",
        "\n",
        "# Load our data set\n",
        "df = pd.read_csv(\"/content/Artificial-Intelligence/Neural Network Model/house_data.csv\")\n",
        "\n",
        "# Create the X and y arrays\n",
        "X = df[[\"sq_feet\", \"num_bedrooms\", \"num_bathrooms\"]]\n",
        "y = df[[\"sale_price\"]]\n",
        "\n",
        "# Data needs to be scaled to  0 to 1 for the neural network to train correctly.\n",
        "X_scaler = MinMaxScaler(feature_range=(0, 1))\n",
        "y_scaler = MinMaxScaler(feature_range=(0, 1))\n",
        "\n",
        "# Scale both the training inputs and outputs\n",
        "X[X.columns] = X_scaler.fit_transform(X[X.columns])\n",
        "y[y.columns] = y_scaler.fit_transform(y[y.columns])\n",
        "\n",
        "# Split the data set in a training set (75%) and a test set (25%)\n",
        "X_train, X_test, y_train, y_test = train_test_split(X, y, test_size=0.25)\n",
        "\n",
        "# Create a Neural Network model\n",
        "model = Sequential()\n",
        "model.add(Dense(50, input_dim=3, activation='relu'))\n",
        "model.add(Dense(100, activation='relu'))\n",
        "model.add(Dense(50, activation='relu'))\n",
        "model.add(Dense(1, activation='linear'))\n",
        "model.compile(\n",
        "    loss='mean_squared_error',\n",
        "    optimizer='SGD'\n",
        ")\n",
        "\n",
        "# Train the model\n",
        "model.fit(\n",
        "    X_train,\n",
        "    y_train,\n",
        "    epochs=1,\n",
        "    batch_size=8,\n",
        "    shuffle=True,\n",
        "    verbose=2\n",
        ")\n",
        "\n",
        "# Save the scalers to files so we can use it to pre-process new data later\n",
        "joblib.dump(X_scaler, \"/content/Artificial-Intelligence/Neural Network Model/X_scaler.pkl\")\n",
        "joblib.dump(y_scaler, \"/content/Artificial-Intelligence/Neural Network Model/y_scaler.pkl\")\n",
        "\n",
        "# Save the trained model to a file so we can use it to make predictions later\n",
        "model.save(\"/content/Artificial-Intelligence/Neural Network Model/house_value_model.h5\")\n",
        "\n",
        "# Report how well the model is performing\n",
        "print(\"Model training results:\")\n",
        "\n",
        "# Report mean absolute error on the training set in a value scaled back to dollars so it's easier to understand.\n",
        "predictions_train = model.predict(X_train, verbose=0)\n",
        "\n",
        "mse_train = mean_absolute_error(\n",
        "    y_scaler.inverse_transform(predictions_train),\n",
        "    y_scaler.inverse_transform(y_train)\n",
        ")\n",
        "print(f\" - Training Set Error: {mse_train}\")\n",
        "\n",
        "# Report mean absolute error on the test set in a value scaled back to dollars so it's easier to understand.\n",
        "predictions_test = model.predict(X_test, verbose=0)\n",
        "\n",
        "mse_test = mean_absolute_error(\n",
        "    y_scaler.inverse_transform(predictions_test),\n",
        "    y_scaler.inverse_transform(y_test)\n",
        ")\n",
        "print(f\" - Test Set Error: {mse_test}\")"
      ],
      "execution_count": 5,
      "outputs": [
        {
          "output_type": "stream",
          "name": "stderr",
          "text": [
            "/usr/local/lib/python3.12/dist-packages/keras/src/layers/core/dense.py:93: UserWarning: Do not pass an `input_shape`/`input_dim` argument to a layer. When using Sequential models, prefer using an `Input(shape)` object as the first layer in the model instead.\n",
            "  super().__init__(activity_regularizer=activity_regularizer, **kwargs)\n"
          ]
        },
        {
          "output_type": "stream",
          "name": "stdout",
          "text": [
            "938/938 - 2s - 3ms/step - loss: 0.0090\n"
          ]
        },
        {
          "output_type": "stream",
          "name": "stderr",
          "text": [
            "WARNING:absl:You are saving your model as an HDF5 file via `model.save()` or `keras.saving.save_model(model)`. This file format is considered legacy. We recommend using instead the native Keras format, e.g. `model.save('my_model.keras')` or `keras.saving.save_model(model, 'my_model.keras')`. \n"
          ]
        },
        {
          "output_type": "stream",
          "name": "stdout",
          "text": [
            "Model training results:\n",
            " - Training Set Error: 12459.7112125\n",
            " - Test Set Error: 12838.922359375001\n"
          ]
        }
      ]
    },
    {
      "cell_type": "markdown",
      "source": [
        "#Test the trained model"
      ],
      "metadata": {
        "id": "WBvVAX2V0d1K"
      }
    },
    {
      "cell_type": "code",
      "source": [
        "from tensorflow import keras\n",
        "# Load our trained model\n",
        "model = keras.models.load_model('/content/Artificial-Intelligence/Neural Network Model/house_value_model.h5')\n",
        "\n",
        "# Load the data scalers so that we can transform new data and prediction the same way as training data.\n",
        "X_scaler = joblib.load('/content/Artificial-Intelligence/Neural Network Model/X_scaler.pkl')\n",
        "y_scaler = joblib.load('/content/Artificial-Intelligence/Neural Network Model/y_scaler.pkl')\n",
        "\n",
        "# Define the house that we want to value (with the values in the same order as in the training data).\n",
        "house_1 = [\n",
        "    2000,  # Size in Square Feet\n",
        "    3,  # Number of Bedrooms\n",
        "    2,  # Number of Bathrooms\n",
        "]\n",
        "\n",
        "# Keras assumes we want to predict the values for multiple of houses at once, so it expects an array.\n",
        "# We only want to value a single house, so it will be the only item in our array.\n",
        "homes = [\n",
        "    house_1\n",
        "]\n",
        "\n",
        "# Scale the new data like the training data\n",
        "scaled_home_data = X_scaler.transform(homes)\n",
        "\n",
        "# Make a prediction for each house in the homes array (but we only have one)\n",
        "home_values = model.predict(scaled_home_data)\n",
        "\n",
        "# The prediction from the neural network will be scaled 0 to 1 just like the training data\n",
        "# We need to unscale it using the same factor as we used to scale the training data\n",
        "unscaled_home_values = y_scaler.inverse_transform(home_values)\n",
        "\n",
        "# Since we are only predicting the price of one house, grab the first prediction returned\n",
        "predicted_value = unscaled_home_values[0][0]\n",
        "\n",
        "# Print the results\n",
        "print(\"House details:\")\n",
        "print(f\"- {house_1[0]} sq feet\")\n",
        "print(f\"- {house_1[1]} bedrooms\")\n",
        "print(f\"- {house_1[2]} bathrooms\")\n",
        "print(f\"Estimated value: ${predicted_value:,.2f}\")"
      ],
      "metadata": {
        "id": "A8mcoapW0LpW",
        "outputId": "b6c1c15a-e059-4bf8-da2e-811ec245df00",
        "colab": {
          "base_uri": "https://localhost:8080/"
        }
      },
      "execution_count": 7,
      "outputs": [
        {
          "output_type": "stream",
          "name": "stderr",
          "text": [
            "WARNING:absl:Compiled the loaded model, but the compiled metrics have yet to be built. `model.compile_metrics` will be empty until you train or evaluate the model.\n",
            "/usr/local/lib/python3.12/dist-packages/sklearn/utils/validation.py:2739: UserWarning: X does not have valid feature names, but MinMaxScaler was fitted with feature names\n",
            "  warnings.warn(\n"
          ]
        },
        {
          "output_type": "stream",
          "name": "stdout",
          "text": [
            "\u001b[1m1/1\u001b[0m \u001b[32m━━━━━━━━━━━━━━━━━━━━\u001b[0m\u001b[37m\u001b[0m \u001b[1m0s\u001b[0m 456ms/step\n",
            "House details:\n",
            "- 2000 sq feet\n",
            "- 3 bedrooms\n",
            "- 2 bathrooms\n",
            "Estimated value: $380,864.12\n"
          ]
        }
      ]
    },
    {
      "cell_type": "code",
      "source": [],
      "metadata": {
        "id": "oO-EJR7c0ZXW"
      },
      "execution_count": null,
      "outputs": []
    }
  ]
}